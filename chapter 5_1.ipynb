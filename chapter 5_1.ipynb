{
 "cells": [
  {
   "cell_type": "code",
   "execution_count": 7,
   "id": "89b90c4f",
   "metadata": {},
   "outputs": [
    {
     "data": {
      "text/plain": [
       "False"
      ]
     },
     "execution_count": 7,
     "metadata": {},
     "output_type": "execute_result"
    }
   ],
   "source": [
    "# Сцепленные сравнения\n",
    "X = 2\n",
    "Y = 4\n",
    "Z = 6\n",
    "X < Y > Z # X < Y and Y > Z"
   ]
  },
  {
   "cell_type": "code",
   "execution_count": 12,
   "id": "d8553994",
   "metadata": {},
   "outputs": [
    {
     "data": {
      "text/plain": [
       "('0o100', '0x40', '0b1000000', 10)"
      ]
     },
     "execution_count": 12,
     "metadata": {},
     "output_type": "execute_result"
    }
   ],
   "source": [
    "oct(64), hex(64), bin(64), int('101',3) #преобразует строку в число по заданному основанию"
   ]
  },
  {
   "cell_type": "code",
   "execution_count": 14,
   "id": "ca97a47c",
   "metadata": {},
   "outputs": [
    {
     "name": "stdout",
     "output_type": "stream",
     "text": [
      "Hello, World\n"
     ]
    }
   ],
   "source": [
    "eval('print(\"Hello, World\")') #трактует строку как исполняемый код"
   ]
  },
  {
   "cell_type": "code",
   "execution_count": 36,
   "id": "d0be3eb1",
   "metadata": {},
   "outputs": [
    {
     "name": "stdout",
     "output_type": "stream",
     "text": [
      "73 24\n",
      "100 FF\n"
     ]
    },
    {
     "data": {
      "text/plain": [
       "5"
      ]
     },
     "execution_count": 36,
     "metadata": {},
     "output_type": "execute_result"
    }
   ],
   "source": [
    "print(0x49, 0o30)\n",
    "print(\"%o %X\" % (64, 255))\n",
    "x = 16\n",
    "x.bit_length() #количество бит, необходимых для хранения числа"
   ]
  },
  {
   "cell_type": "code",
   "execution_count": 70,
   "id": "85500e4b",
   "metadata": {},
   "outputs": [
    {
     "name": "stdout",
     "output_type": "stream",
     "text": [
      "hearts\n"
     ]
    },
    {
     "data": {
      "text/plain": [
       "['clubs', 'hearts', 'diamonds', 'spades']"
      ]
     },
     "execution_count": 70,
     "metadata": {},
     "output_type": "execute_result"
    }
   ],
   "source": [
    "import random\n",
    "\n",
    "suits = ['hearts', 'clubs', 'diamonds', 'spades']\n",
    "\n",
    "print(random.choice(suits))\n",
    "random.shuffle(suits) # случайное перемешивание\n",
    "suits"
   ]
  },
  {
   "cell_type": "markdown",
   "id": "3229cdff",
   "metadata": {},
   "source": [
    "# Set"
   ]
  },
  {
   "cell_type": "code",
   "execution_count": 76,
   "id": "de12f1d3",
   "metadata": {},
   "outputs": [
    {
     "data": {
      "text/plain": [
       "True"
      ]
     },
     "execution_count": 76,
     "metadata": {},
     "output_type": "execute_result"
    }
   ],
   "source": [
    "x = set('abcde')\n",
    "y = set('bdxyz')\n",
    "x^y\n",
    "'e' in 'vamelot'"
   ]
  },
  {
   "cell_type": "code",
   "execution_count": 81,
   "id": "49e16a57",
   "metadata": {
    "scrolled": true
   },
   "outputs": [
    {
     "data": {
      "text/plain": [
       "{1, 4, 9, 16}"
      ]
     },
     "execution_count": 81,
     "metadata": {},
     "output_type": "execute_result"
    }
   ],
   "source": [
    "{x**2 for x in [1,4,3,2]}"
   ]
  },
  {
   "cell_type": "code",
   "execution_count": 82,
   "id": "5dc6f387",
   "metadata": {},
   "outputs": [
    {
     "data": {
      "text/plain": [
       "2"
      ]
     },
     "execution_count": 82,
     "metadata": {},
     "output_type": "execute_result"
    }
   ],
   "source": [
    "True + True"
   ]
  }
 ],
 "metadata": {
  "kernelspec": {
   "display_name": "Python 3",
   "language": "python",
   "name": "python3"
  },
  "language_info": {
   "codemirror_mode": {
    "name": "ipython",
    "version": 3
   },
   "file_extension": ".py",
   "mimetype": "text/x-python",
   "name": "python",
   "nbconvert_exporter": "python",
   "pygments_lexer": "ipython3",
   "version": "3.8.8"
  }
 },
 "nbformat": 4,
 "nbformat_minor": 5
}
