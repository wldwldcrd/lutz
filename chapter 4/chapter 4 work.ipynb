{
 "cells": [
  {
   "cell_type": "markdown",
   "id": "e452c7f3",
   "metadata": {},
   "source": [
    "# Dict"
   ]
  },
  {
   "cell_type": "code",
   "execution_count": 7,
   "id": "b016cab9",
   "metadata": {},
   "outputs": [
    {
     "data": {
      "text/plain": [
       "{'food': 'Spam', 'quantity': 5, 'color': 'pink'}"
      ]
     },
     "execution_count": 7,
     "metadata": {},
     "output_type": "execute_result"
    }
   ],
   "source": [
    "D = {'food': 'Spam', 'quantity': 4, 'color': 'pink'}\n",
    "# D['food']\n",
    "D['quantity'] += 1\n",
    "D"
   ]
  },
  {
   "cell_type": "code",
   "execution_count": 9,
   "id": "27de33e0",
   "metadata": {},
   "outputs": [
    {
     "name": "stdout",
     "output_type": "stream",
     "text": [
      "Bob\n"
     ]
    },
    {
     "data": {
      "text/plain": [
       "{'name': 'Bob', 'job': 'dev', 'age': 40}"
      ]
     },
     "execution_count": 9,
     "metadata": {},
     "output_type": "execute_result"
    }
   ],
   "source": [
    "# Dict creation\n",
    "D = {}\n",
    "D['name'] = 'Bob'\n",
    "D['job'] = 'dev'\n",
    "D['age'] = 40\n",
    "print(D['name'])\n",
    "D"
   ]
  },
  {
   "cell_type": "code",
   "execution_count": 14,
   "id": "21257d2e",
   "metadata": {},
   "outputs": [
    {
     "name": "stdout",
     "output_type": "stream",
     "text": [
      "Bob1 {'name': 'Bob', 'job': 'dev', 'age': 40}\n",
      "Bob2 {'age': 40, 'name': 'Bob', 'job': 'dev'}\n"
     ]
    },
    {
     "data": {
      "text/plain": [
       "{'age': 40, 'name': 'Bob', 'job': 'dev'}"
      ]
     },
     "execution_count": 14,
     "metadata": {},
     "output_type": "execute_result"
    }
   ],
   "source": [
    "bob1 = dict(name = 'Bob', job = 'dev', age = 40)\n",
    "bob2 = dict(zip([ 'age', 'name', 'job'], [40, 'Bob', 'dev']))\n",
    "print('Bob1', bob1)\n",
    "print('Bob2', bob2)\n",
    "bob2\n",
    "# real order may be shuffled. Dict is not ordered data type."
   ]
  },
  {
   "cell_type": "code",
   "execution_count": 25,
   "id": "0f4b3ceb",
   "metadata": {},
   "outputs": [
    {
     "data": {
      "text/plain": [
       "{'name': {'first': 'Bob', 'last': 'Smith'},\n",
       " 'jobs': ['dev', 'mgr', 'janitor'],\n",
       " 'age': 40.5}"
      ]
     },
     "execution_count": 25,
     "metadata": {},
     "output_type": "execute_result"
    }
   ],
   "source": [
    "rec = {'name' : { 'first' : 'Bob' , 'last' : 'Smith'},\n",
    "       'jobs': ['dev', 'mgr'],\n",
    "       'age': 40.5}\n",
    "# rec['name']['last']\n",
    "rec['jobs'].append('janitor')\n",
    "rec"
   ]
  },
  {
   "cell_type": "code",
   "execution_count": 10,
   "id": "ad80d04b",
   "metadata": {},
   "outputs": [
    {
     "data": {
      "text/plain": [
       "0"
      ]
     },
     "execution_count": 10,
     "metadata": {},
     "output_type": "execute_result"
    }
   ],
   "source": [
    "# Missing keys\n",
    "D = {'a':1, 'b':2, 'c':3}\n",
    "D['e'] = 99\n",
    "\n",
    "# if not 'f' in D:\n",
    "#     print('missing')\n",
    "\n",
    "# D.get('x','missing')\n",
    "\n",
    "value = D['x'] if 'x' in D else 0\n",
    "value"
   ]
  },
  {
   "cell_type": "code",
   "execution_count": 16,
   "id": "a5424537",
   "metadata": {},
   "outputs": [
    {
     "name": "stdout",
     "output_type": "stream",
     "text": [
      "a => 1\n",
      "b => 2\n",
      "c => 3\n",
      "S\n",
      "P\n",
      "A\n",
      "M\n"
     ]
    }
   ],
   "source": [
    "# Key sort. The dict is not sequence, so it may be shuffled\n",
    "D = {'a':1, 'b':2, 'c':3}\n",
    "ks = list(D.keys())\n",
    "ks.sort()\n",
    "ks\n",
    "\n",
    "for key in sorted(D):\n",
    "    print(key, '=>', D[key])\n",
    "\n",
    "for c in 'spam':\n",
    "    print(c.upper())"
   ]
  },
  {
   "cell_type": "code",
   "execution_count": 20,
   "id": "20a86804",
   "metadata": {},
   "outputs": [
    {
     "data": {
      "text/plain": [
       "[1, 4, 9, 16, 25]"
      ]
     },
     "execution_count": 20,
     "metadata": {},
     "output_type": "execute_result"
    }
   ],
   "source": [
    "# Iteration and optimization\n",
    "squares = [x**2 for x in [1,2,3,4,5]]\n",
    "squares\n",
    "# equivalent\n",
    "squares = []\n",
    "for x in [1,2,3,4,5]:\n",
    "    squares.append(x**2)\n",
    "squares"
   ]
  },
  {
   "cell_type": "markdown",
   "id": "16de345a",
   "metadata": {},
   "source": [
    "# Tuple"
   ]
  },
  {
   "cell_type": "code",
   "execution_count": 3,
   "id": "b365cafc",
   "metadata": {},
   "outputs": [
    {
     "name": "stdout",
     "output_type": "stream",
     "text": [
      "3 1\n"
     ]
    }
   ],
   "source": [
    "T = (1, 2, 3, 4)\n",
    "# len(T)\n",
    "T + (5, 6)\n",
    "# T[0]\n",
    "print(T.index(4), T.count(4))"
   ]
  },
  {
   "cell_type": "code",
   "execution_count": 6,
   "id": "51d10bec",
   "metadata": {},
   "outputs": [
    {
     "data": {
      "text/plain": [
       "(2, 2, 3, 4)"
      ]
     },
     "execution_count": 6,
     "metadata": {},
     "output_type": "execute_result"
    }
   ],
   "source": [
    "# tuples are not changable\n",
    "# T[0] = 2\n",
    "T = (2,) + T[1:]"
   ]
  },
  {
   "cell_type": "markdown",
   "id": "2951cd21",
   "metadata": {},
   "source": [
    "# Files"
   ]
  },
  {
   "cell_type": "code",
   "execution_count": 3,
   "id": "7a180433",
   "metadata": {},
   "outputs": [
    {
     "name": "stdout",
     "output_type": "stream",
     "text": [
      "Hello\n",
      "world\n",
      "\n"
     ]
    },
    {
     "data": {
      "text/plain": [
       "['Hello', 'world']"
      ]
     },
     "execution_count": 3,
     "metadata": {},
     "output_type": "execute_result"
    }
   ],
   "source": [
    "# write to file\n",
    "f = open('data.txt', 'w')\n",
    "f.write('Hello\\n')\n",
    "f.write('world\\n')\n",
    "f.close()\n",
    "\n",
    "# read from file\n",
    "f = open('data.txt', 'r')\n",
    "text = f.read()\n",
    "print(text)\n",
    "text.split()"
   ]
  },
  {
   "cell_type": "code",
   "execution_count": 6,
   "id": "f6311de0",
   "metadata": {},
   "outputs": [
    {
     "name": "stdout",
     "output_type": "stream",
     "text": [
      "Hello\n",
      "\n",
      "world\n",
      "\n",
      "Help on built-in function seek:\n",
      "\n",
      "seek(cookie, whence=0, /) method of _io.TextIOWrapper instance\n",
      "    Change stream position.\n",
      "    \n",
      "    Change the stream position to the given byte offset. The offset is\n",
      "    interpreted relative to the position indicated by whence.  Values\n",
      "    for whence are:\n",
      "    \n",
      "    * 0 -- start of stream (the default); offset should be zero or positive\n",
      "    * 1 -- current stream position; offset may be negative\n",
      "    * 2 -- end of stream; offset is usually negative\n",
      "    \n",
      "    Return the new absolute position.\n",
      "\n"
     ]
    }
   ],
   "source": [
    "# File = iterator\n",
    "for line in open('data.txt'): print(line)\n",
    "\n",
    "# method list\n",
    "# dir(f) \n",
    "\n",
    "# method help\n",
    "help(f.seek)"
   ]
  },
  {
   "cell_type": "code",
   "execution_count": null,
   "id": "b6a295a1",
   "metadata": {},
   "outputs": [],
   "source": [
    "# binary + unicode files"
   ]
  },
  {
   "cell_type": "markdown",
   "id": "a42cc760",
   "metadata": {},
   "source": [
    "# Set"
   ]
  },
  {
   "cell_type": "code",
   "execution_count": 8,
   "id": "95f34d68",
   "metadata": {},
   "outputs": [
    {
     "data": {
      "text/plain": [
       "({'a', 'm', 'p', 's'}, {'a', 'h', 'm'})"
      ]
     },
     "execution_count": 8,
     "metadata": {},
     "output_type": "execute_result"
    }
   ],
   "source": [
    "X = set('spam')\n",
    "Y = {'h', 'a', 'm'}\n",
    "\n",
    "X, Y # Tuple"
   ]
  },
  {
   "cell_type": "code",
   "execution_count": 10,
   "id": "d5f9adc4",
   "metadata": {},
   "outputs": [
    {
     "data": {
      "text/plain": [
       "{'a', 'm'}"
      ]
     },
     "execution_count": 10,
     "metadata": {},
     "output_type": "execute_result"
    }
   ],
   "source": [
    "X & Y # пересечение"
   ]
  },
  {
   "cell_type": "code",
   "execution_count": 11,
   "id": "2eef0324",
   "metadata": {},
   "outputs": [
    {
     "data": {
      "text/plain": [
       "{'a', 'h', 'm', 'p', 's'}"
      ]
     },
     "execution_count": 11,
     "metadata": {},
     "output_type": "execute_result"
    }
   ],
   "source": [
    "X | Y # объединение"
   ]
  },
  {
   "cell_type": "code",
   "execution_count": 12,
   "id": "d6bdfbc0",
   "metadata": {},
   "outputs": [
    {
     "data": {
      "text/plain": [
       "{'p', 's'}"
      ]
     },
     "execution_count": 12,
     "metadata": {},
     "output_type": "execute_result"
    }
   ],
   "source": [
    "X - Y # Разность"
   ]
  },
  {
   "cell_type": "code",
   "execution_count": 14,
   "id": "f6f00693",
   "metadata": {},
   "outputs": [
    {
     "data": {
      "text/plain": [
       "False"
      ]
     },
     "execution_count": 14,
     "metadata": {},
     "output_type": "execute_result"
    }
   ],
   "source": [
    "X > Y # Надмножество"
   ]
  },
  {
   "cell_type": "code",
   "execution_count": 15,
   "id": "0bd2df33",
   "metadata": {},
   "outputs": [
    {
     "data": {
      "text/plain": [
       "[1, 2, 3]"
      ]
     },
     "execution_count": 15,
     "metadata": {},
     "output_type": "execute_result"
    }
   ],
   "source": [
    "# Фильтрация дубликатов\n",
    "list(set([1,2,1,3,1]))"
   ]
  },
  {
   "cell_type": "code",
   "execution_count": 16,
   "id": "b6887602",
   "metadata": {},
   "outputs": [
    {
     "data": {
      "text/plain": [
       "{'p', 's'}"
      ]
     },
     "execution_count": 16,
     "metadata": {},
     "output_type": "execute_result"
    }
   ],
   "source": [
    "# Нахождение разностей в коллекциях\n",
    "set('spam') - set('ham')"
   ]
  },
  {
   "cell_type": "code",
   "execution_count": 17,
   "id": "9a9f8194",
   "metadata": {},
   "outputs": [
    {
     "data": {
      "text/plain": [
       "True"
      ]
     },
     "execution_count": 17,
     "metadata": {},
     "output_type": "execute_result"
    }
   ],
   "source": [
    "# Нейтральная к порядку проверка равенства\n",
    "set('spam') == set('asmp')"
   ]
  },
  {
   "cell_type": "code",
   "execution_count": 18,
   "id": "e5d9b98e",
   "metadata": {},
   "outputs": [
    {
     "data": {
      "text/plain": [
       "(True, True, True)"
      ]
     },
     "execution_count": 18,
     "metadata": {},
     "output_type": "execute_result"
    }
   ],
   "source": [
    "# Проверка членства\n",
    "'p' in set('spam'), 'p' in 'spam', 'ham' in ['eggs', 'spam', 'ham']"
   ]
  },
  {
   "cell_type": "markdown",
   "id": "cdfeac04",
   "metadata": {},
   "source": [
    "# User-defined class"
   ]
  },
  {
   "cell_type": "code",
   "execution_count": 20,
   "id": "341b9e1b",
   "metadata": {},
   "outputs": [],
   "source": [
    "class Worker:\n",
    "    def __init__(self, name, pay):\n",
    "        self.name = name\n",
    "        self.pay = pay\n",
    "    def lastName(self):\n",
    "        return self.name.split()[-1]\n",
    "    def giveRaise(self, percent):\n",
    "        self.pay *= (1.0 + percent)"
   ]
  },
  {
   "cell_type": "code",
   "execution_count": 26,
   "id": "6e24df9b",
   "metadata": {},
   "outputs": [],
   "source": [
    "bob = Worker('Bob Smith', 50000)\n",
    "sue = Worker('Sue Jones', 60000)"
   ]
  },
  {
   "cell_type": "code",
   "execution_count": 23,
   "id": "64e16dbc",
   "metadata": {},
   "outputs": [
    {
     "data": {
      "text/plain": [
       "'Smith'"
      ]
     },
     "execution_count": 23,
     "metadata": {},
     "output_type": "execute_result"
    }
   ],
   "source": [
    "bob.lastName()"
   ]
  },
  {
   "cell_type": "code",
   "execution_count": 27,
   "id": "29831572",
   "metadata": {},
   "outputs": [
    {
     "data": {
      "text/plain": [
       "66000.0"
      ]
     },
     "execution_count": 27,
     "metadata": {},
     "output_type": "execute_result"
    }
   ],
   "source": [
    "sue.giveRaise(.10)\n",
    "sue.pay"
   ]
  },
  {
   "cell_type": "code",
   "execution_count": null,
   "id": "11dc1ff1",
   "metadata": {},
   "outputs": [],
   "source": []
  },
  {
   "cell_type": "code",
   "execution_count": null,
   "id": "1fff3e24",
   "metadata": {},
   "outputs": [],
   "source": []
  }
 ],
 "metadata": {
  "kernelspec": {
   "display_name": "Python 3",
   "language": "python",
   "name": "python3"
  },
  "language_info": {
   "codemirror_mode": {
    "name": "ipython",
    "version": 3
   },
   "file_extension": ".py",
   "mimetype": "text/x-python",
   "name": "python",
   "nbconvert_exporter": "python",
   "pygments_lexer": "ipython3",
   "version": "3.8.8"
  }
 },
 "nbformat": 4,
 "nbformat_minor": 5
}
